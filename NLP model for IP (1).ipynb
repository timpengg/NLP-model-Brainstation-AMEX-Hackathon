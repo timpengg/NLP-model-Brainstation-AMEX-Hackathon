{
 "cells": [
  {
   "cell_type": "code",
   "execution_count": 19,
   "id": "7d936810-4335-4f9a-baea-65c860d93092",
   "metadata": {},
   "outputs": [
    {
     "name": "stderr",
     "output_type": "stream",
     "text": [
      "[nltk_data] Downloading package punkt to\n",
      "[nltk_data]     /Users/timothypeng/nltk_data...\n",
      "[nltk_data]   Package punkt is already up-to-date!\n",
      "[nltk_data] Downloading package stopwords to\n",
      "[nltk_data]     /Users/timothypeng/nltk_data...\n",
      "[nltk_data]   Package stopwords is already up-to-date!\n"
     ]
    }
   ],
   "source": [
    "import numpy as np\n",
    "import pandas as pd\n",
    "import re\n",
    "import string\n",
    "\n",
    "import nltk\n",
    "nltk.download('punkt')\n",
    "nltk.download('stopwords')\n",
    "from nltk.corpus import stopwords # lists of stopwords\n",
    "from nltk.tokenize import word_tokenize # tool for splitting documents into tokens\n",
    "from textblob import TextBlob # tool for sentiment analysis"
   ]
  },
  {
   "cell_type": "code",
   "execution_count": 16,
   "id": "c82ac794-a921-4725-92cb-552a204c5051",
   "metadata": {},
   "outputs": [],
   "source": [
    "def preprocess_text(text):\n",
    "    tokens = word_tokenize(text) # Tokenize text\n",
    "    tokens = [word.lower() for word in tokens] # convert all to lower case\n",
    "    tokens = [word for word in tokens if word.isalnum()] # remove puncuation\n",
    "    stop_words = set(stopwords.words('english')) # remove stop words\n",
    "    tokens = [word for word in tokens if not word in stop_words]\n",
    "    return ' '.join(tokens)"
   ]
  },
  {
   "cell_type": "code",
   "execution_count": 17,
   "id": "f0e5302e-4613-4919-9f13-bc6c6853e679",
   "metadata": {},
   "outputs": [
    {
     "name": "stdout",
     "output_type": "stream",
     "text": [
      "change password due fraudulent activity needed remote access forgotten new password locked needed call bank horrible inconvenient fraudulent incident thankful extra measures one instance able change password ios app wait login web app order change led anxiety fear potential security risk another instance bank accept password even though verified inputting correct one many tries locked security precaution led frustration prevented access banking accountreceiving code fast enoughyes really bad issues accessing account device authentication code sent could verify identity frustrated annoyed\n"
     ]
    }
   ],
   "source": [
    "sample_text_security_measures = \"\\\n",
    "I had to change my password due to fraudulent activity, needed remote access and had forgotten the new password. I was locked out and needed to call the bank. It was horrible and inconvenient but after the fraudulent incident I was thankful for the extra measures \\\n",
    "One instance I was not able to change my password on the ios app. I had to wait to login to the web app in order to change it which led to anxiety and fear of a potential security risk. Another instance, the bank did not accept my password (even though I verified I was inputting the correct one) after many tries and it locked me out as a security precaution. This led to frustration as it prevented me to access my banking account\\\n",
    "receiving the code not fast enough\\\n",
    "Yes, I had really bad issues accessing my account because I didn't have the device that the authentication code was sent to, so I couldn't verify my identity and that frustrated and annoyed me\\\n",
    "\"\n",
    "\n",
    "clean_text_security_measures = preprocess_text(sample_text_security_measures)\n",
    "print(clean_text_security_measures)"
   ]
  },
  {
   "cell_type": "code",
   "execution_count": 20,
   "id": "5220d42b-fa84-4096-bbd6-9eff548865e5",
   "metadata": {},
   "outputs": [
    {
     "name": "stdout",
     "output_type": "stream",
     "text": [
      "TextBlob Security measures Sentiment: Sentiment(polarity=-0.17061688311688308, subjectivity=0.5658008658008657)\n"
     ]
    }
   ],
   "source": [
    "blob = TextBlob(clean_text_security_measures)\n",
    "print(f'TextBlob Security measures Sentiment: {blob.sentiment}')"
   ]
  },
  {
   "cell_type": "markdown",
   "id": "b376e6f0-9f1b-43ad-9be0-652398dd85a4",
   "metadata": {},
   "source": [
    "Polarity score is a range from -1 to +1 with +1 being the highest positive sentiment. Subjectivey is the metric of how subject"
   ]
  }
 ],
 "metadata": {
  "kernelspec": {
   "display_name": "Python 3 (ipykernel)",
   "language": "python",
   "name": "python3"
  },
  "language_info": {
   "codemirror_mode": {
    "name": "ipython",
    "version": 3
   },
   "file_extension": ".py",
   "mimetype": "text/x-python",
   "name": "python",
   "nbconvert_exporter": "python",
   "pygments_lexer": "ipython3",
   "version": "3.11.7"
  }
 },
 "nbformat": 4,
 "nbformat_minor": 5
}
